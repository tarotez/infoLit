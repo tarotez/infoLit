{
 "cells": [
  {
   "cell_type": "code",
   "execution_count": 2,
   "metadata": {},
   "outputs": [
    {
     "name": "stdout",
     "output_type": "stream",
     "text": [
      "Requirement already satisfied: imageio in /Users/tez/.pyenv/versions/miniconda3-3.10-24.5.0-0/lib/python3.10/site-packages (2.36.0)\n",
      "Requirement already satisfied: numpy in /Users/tez/.pyenv/versions/miniconda3-3.10-24.5.0-0/lib/python3.10/site-packages (from imageio) (2.0.1)\n",
      "Requirement already satisfied: pillow>=8.3.2 in /Users/tez/.pyenv/versions/miniconda3-3.10-24.5.0-0/lib/python3.10/site-packages (from imageio) (10.4.0)\n",
      "Note: you may need to restart the kernel to use updated packages.\n"
     ]
    }
   ],
   "source": [
    "pip install imageio"
   ]
  },
  {
   "cell_type": "code",
   "execution_count": null,
   "metadata": {},
   "outputs": [],
   "source": [
    "from IPython.display import Image\n",
    "Image(\"animal1.jpg\")\n"
   ]
  },
  {
   "cell_type": "code",
   "execution_count": null,
   "metadata": {},
   "outputs": [],
   "source": [
    "import imageio as iio\n",
    "img = iio.imread(\"animal2.jpg\")"
   ]
  },
  {
   "cell_type": "code",
   "execution_count": null,
   "metadata": {},
   "outputs": [],
   "source": [
    "img"
   ]
  },
  {
   "cell_type": "code",
   "execution_count": null,
   "metadata": {},
   "outputs": [],
   "source": [
    "img.shape"
   ]
  },
  {
   "cell_type": "code",
   "execution_count": null,
   "metadata": {},
   "outputs": [],
   "source": [
    "# checking the type\n",
    "type(img)"
   ]
  },
  {
   "cell_type": "code",
   "execution_count": null,
   "metadata": {},
   "outputs": [],
   "source": [
    "# array element (pixel)\n",
    "img[0,0,:]"
   ]
  },
  {
   "cell_type": "code",
   "execution_count": null,
   "metadata": {},
   "outputs": [],
   "source": [
    "# defining a list\n",
    "lst = [6, 7, 8, 9, 10, 11]\n",
    "lst"
   ]
  },
  {
   "cell_type": "code",
   "execution_count": null,
   "metadata": {},
   "outputs": [],
   "source": [
    "type(lst)"
   ]
  },
  {
   "cell_type": "code",
   "execution_count": null,
   "metadata": {},
   "outputs": [],
   "source": [
    "# accessing a list\n",
    "lst[1]"
   ]
  },
  {
   "cell_type": "code",
   "execution_count": null,
   "metadata": {},
   "outputs": [],
   "source": [
    "# getting a partial list\n",
    "lst[3:]"
   ]
  },
  {
   "cell_type": "code",
   "execution_count": null,
   "metadata": {},
   "outputs": [],
   "source": [
    "# accessing a list from behind\n",
    "lst[-2]"
   ]
  },
  {
   "cell_type": "code",
   "execution_count": null,
   "metadata": {},
   "outputs": [],
   "source": [
    "# making an array\n",
    "import numpy as np\n",
    "np.array(lst)"
   ]
  },
  {
   "cell_type": "code",
   "execution_count": null,
   "metadata": {},
   "outputs": [],
   "source": [
    "# Exercise: make a new array consisting of four numbers"
   ]
  },
  {
   "cell_type": "code",
   "execution_count": null,
   "metadata": {},
   "outputs": [],
   "source": [
    "# Exercise: make a multi-dimensional array for [[5, 6], [7, 8]]"
   ]
  },
  {
   "cell_type": "code",
   "execution_count": null,
   "metadata": {},
   "outputs": [],
   "source": [
    "# substitution into an array element\n",
    "ar = np.array([8, 9, 10, 11])\n",
    "ar[2] = 5\n",
    "ar"
   ]
  },
  {
   "cell_type": "code",
   "execution_count": null,
   "metadata": {},
   "outputs": [],
   "source": [
    "# checking the type of a number\n",
    "type(10)"
   ]
  },
  {
   "cell_type": "code",
   "execution_count": null,
   "metadata": {},
   "outputs": [],
   "source": [
    "# casting from a number to a string\n",
    "str(10)"
   ]
  },
  {
   "cell_type": "code",
   "execution_count": null,
   "metadata": {},
   "outputs": [],
   "source": [
    "# overloading of the + sign\n",
    "print(10 + 10)\n",
    "print(str(10) + str(10))"
   ]
  },
  {
   "cell_type": "code",
   "execution_count": null,
   "metadata": {},
   "outputs": [],
   "source": [
    "# minimum number used in a pixel as a hexagonal number\n",
    "vhex = np.vectorize(hex)\n",
    "vhex(np.max(img))"
   ]
  },
  {
   "cell_type": "code",
   "execution_count": null,
   "metadata": {},
   "outputs": [],
   "source": [
    "# minimum number used in a pixel as a binary number\n",
    "vbin = np.vectorize(bin)\n",
    "vbin(np.max(img))"
   ]
  },
  {
   "cell_type": "code",
   "execution_count": null,
   "metadata": {},
   "outputs": [],
   "source": [
    "# casting and the size limit of int8\n",
    "np.int8(255)"
   ]
  },
  {
   "cell_type": "code",
   "execution_count": null,
   "metadata": {},
   "outputs": [],
   "source": [
    "# find out the smallest number that can be represented by int8\n",
    "np.int8(   )"
   ]
  },
  {
   "cell_type": "code",
   "execution_count": null,
   "metadata": {},
   "outputs": [],
   "source": [
    "# find out the size limit of uint8\n",
    "np.uint8(   )"
   ]
  },
  {
   "cell_type": "code",
   "execution_count": null,
   "metadata": {},
   "outputs": [],
   "source": [
    "# averaging\n",
    "lst = [3, 8, 4]\n",
    "np.uint8(np.floor(np.mean(lst)))"
   ]
  },
  {
   "cell_type": "code",
   "execution_count": null,
   "metadata": {},
   "outputs": [],
   "source": [
    "# a loop using range()\n",
    "for i in range(10):\n",
    "    print(i)\n"
   ]
  },
  {
   "cell_type": "code",
   "execution_count": null,
   "metadata": {},
   "outputs": [],
   "source": [
    "# a loop using an iterator\n",
    "for row in img:\n",
    "    print('row =', row)"
   ]
  },
  {
   "cell_type": "code",
   "execution_count": null,
   "metadata": {},
   "outputs": [],
   "source": [
    "# a double loop using an iterator\n",
    "for row in img:\n",
    "    for pixel in row:\n",
    "        print('pixel =', pixel)"
   ]
  },
  {
   "cell_type": "code",
   "execution_count": null,
   "metadata": {},
   "outputs": [],
   "source": [
    "# a loop with enumeration\n",
    "for rowID, row in enumerate(img):\n",
    "    for colID, pixel in enumerate(row):\n",
    "        print('pixel (', rowID, ',', colID, ') = ', pixel, sep='')"
   ]
  },
  {
   "cell_type": "code",
   "execution_count": null,
   "metadata": {},
   "outputs": [],
   "source": [
    "# make a flipped image\n",
    "img_flipped = np.array(img)\n",
    "\n",
    "# make a loop, substitute pixel values into img_flipped but in a flipped order\n",
    "\n",
    "\n",
    "filePath = \"img_flipped.jpg\"\n",
    "iio.imwrite(filePath, img_flipped)\n",
    "Image(filePath)"
   ]
  },
  {
   "cell_type": "code",
   "execution_count": null,
   "metadata": {},
   "outputs": [],
   "source": [
    "# make a gray scale image\n",
    "img_grayscale = np.array(img)\n",
    "\n",
    "# make a loop, use averaging to set all channels to have the same value\n",
    "\n",
    "\n",
    "filePath = \"img_grayscale.jpg\"\n",
    "iio.imwrite(filePath, img_grayscale)\n",
    "Image(filePath)\n"
   ]
  }
 ],
 "metadata": {
  "kernelspec": {
   "display_name": "base",
   "language": "python",
   "name": "python3"
  },
  "language_info": {
   "codemirror_mode": {
    "name": "ipython",
    "version": 3
   },
   "file_extension": ".py",
   "mimetype": "text/x-python",
   "name": "python",
   "nbconvert_exporter": "python",
   "pygments_lexer": "ipython3",
   "version": "3.10.13"
  }
 },
 "nbformat": 4,
 "nbformat_minor": 2
}
